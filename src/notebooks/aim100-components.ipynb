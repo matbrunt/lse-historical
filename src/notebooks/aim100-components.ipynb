{
 "cells": [
  {
   "cell_type": "code",
   "execution_count": 93,
   "metadata": {},
   "outputs": [],
   "source": [
    "import requests\n",
    "import re\n",
    "import pandas as pd\n",
    "import numpy as np\n",
    "from bs4 import BeautifulSoup\n",
    "from time import sleep\n",
    "\n",
    "from helpers import utils"
   ]
  },
  {
   "cell_type": "code",
   "execution_count": 73,
   "metadata": {},
   "outputs": [],
   "source": [
    "url = \"https://www.londonstockexchange.com/exchange/prices-and-markets/stocks/indices/summary/summary-indices-constituents.html?index=AIM1\""
   ]
  },
  {
   "cell_type": "code",
   "execution_count": 74,
   "metadata": {},
   "outputs": [],
   "source": [
    "def fetch_page(content_url):\n",
    "    print('Fetching ', content_url)\n",
    "    r = requests.get(content_url)\n",
    "    return BeautifulSoup(r.text, \"html.parser\")"
   ]
  },
  {
   "cell_type": "code",
   "execution_count": 75,
   "metadata": {},
   "outputs": [],
   "source": [
    "def parse_first_page():\n",
    "    soup = fetch_page(url)\n",
    "    content = parse_table(soup)\n",
    "    last_page = get_last_page(soup)\n",
    "    \n",
    "    return content, last_page"
   ]
  },
  {
   "cell_type": "code",
   "execution_count": 76,
   "metadata": {},
   "outputs": [],
   "source": [
    "def get_last_page(soup):\n",
    "    paging = soup.select_one('div.paging > p:nth-of-type(1)').string\n",
    "    m = re.search(r'of (\\d+)$', paging)\n",
    "    if m:\n",
    "        return int(m.groups()[0])\n",
    "    return None"
   ]
  },
  {
   "cell_type": "code",
   "execution_count": 77,
   "metadata": {},
   "outputs": [],
   "source": [
    "def parse_company(el):\n",
    "    symbolId = re.search(r'\\/(\\w+)\\.html', el.get('href'))\n",
    "    if symbolId:\n",
    "        symbolId = symbolId.group(1)\n",
    "    \n",
    "    return (el.string, symbolId)"
   ]
  },
  {
   "cell_type": "code",
   "execution_count": 78,
   "metadata": {},
   "outputs": [],
   "source": [
    "def parse_table(soup):\n",
    "    data = []\n",
    "    rows = soup.find(\"table\", class_=\"table_dati\").find(\"tbody\").findAll(\"tr\")\n",
    "    print('Reading Table')\n",
    "    for tr in rows:\n",
    "        cols = tr.findAll('td')\n",
    "\n",
    "        company, symbolId = parse_company(cols[1].find('a'))\n",
    "        item = {\n",
    "            'symbol': cols[0].string,\n",
    "            'company': company,\n",
    "            'symbolId': symbolId,\n",
    "            'currency': cols[2].string,\n",
    "            'price': cols[3].string.replace(',','')\n",
    "        }\n",
    "        data.append(item)\n",
    "    return data"
   ]
  },
  {
   "cell_type": "code",
   "execution_count": 88,
   "metadata": {},
   "outputs": [
    {
     "data": {
      "text/plain": [
       "{'symbol': 'ABC',\n",
       " 'company': 'ABCAM',\n",
       " 'symbolId': 'GB00B6774699GBGBXAMSM',\n",
       " 'currency': 'GBX',\n",
       " 'price': '1456.00'}"
      ]
     },
     "execution_count": 88,
     "metadata": {},
     "output_type": "execute_result"
    }
   ],
   "source": [
    "def scrape_content():\n",
    "    content, last_page = parse_first_page()\n",
    "    sleep(3)\n",
    "    for page in [i+1 for i in range(1, last_page)]:\n",
    "        content_url = url + \"&page={}\".format(page)\n",
    "        soup = fetch_page(content_url)\n",
    "        page_content = parse_table(soup)\n",
    "        content.extend(page_content)\n",
    "        sleep(4)\n",
    "    return content\n",
    "\n",
    "content = scrape_content()\n",
    "content[0]"
   ]
  },
  {
   "cell_type": "code",
   "execution_count": 91,
   "metadata": {},
   "outputs": [
    {
     "name": "stdout",
     "output_type": "stream",
     "text": [
      "<class 'pandas.core.frame.DataFrame'>\n",
      "RangeIndex: 101 entries, 0 to 100\n",
      "Data columns (total 5 columns):\n",
      "company     101 non-null object\n",
      "currency    101 non-null object\n",
      "price       101 non-null float64\n",
      "symbol      101 non-null object\n",
      "symbolId    101 non-null object\n",
      "dtypes: float64(1), object(4)\n",
      "memory usage: 4.0+ KB\n"
     ]
    }
   ],
   "source": [
    "df = (\n",
    "    pd.DataFrame(content)\n",
    "    .assign(price = lambda x: pd.to_numeric(x.price))\n",
    ")\n",
    "df.info()"
   ]
  },
  {
   "cell_type": "code",
   "execution_count": 94,
   "metadata": {},
   "outputs": [],
   "source": [
    "df.to_csv(utils.get_raw_file('aim100-components-20180808.csv'), index=False)"
   ]
  },
  {
   "cell_type": "code",
   "execution_count": 109,
   "metadata": {},
   "outputs": [],
   "source": []
  }
 ],
 "metadata": {
  "kernelspec": {
   "display_name": "Python 3",
   "language": "python",
   "name": "python3"
  },
  "language_info": {
   "codemirror_mode": {
    "name": "ipython",
    "version": 3
   },
   "file_extension": ".py",
   "mimetype": "text/x-python",
   "name": "python",
   "nbconvert_exporter": "python",
   "pygments_lexer": "ipython3",
   "version": "3.6.4"
  }
 },
 "nbformat": 4,
 "nbformat_minor": 2
}
